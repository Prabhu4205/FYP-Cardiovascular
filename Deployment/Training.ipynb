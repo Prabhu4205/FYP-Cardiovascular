{
 "cells": [
  {
   "cell_type": "code",
   "execution_count": 12,
   "id": "5a44d273-775e-48ac-8829-6d1890854e3b",
   "metadata": {},
   "outputs": [],
   "source": [
    "import pandas as pd\n",
    "import numpy as np\n",
    "from sklearn.preprocessing import LabelEncoder, StandardScaler\n",
    "from sklearn.decomposition import PCA\n",
    "from sklearn.model_selection import train_test_split, GridSearchCV\n",
    "from sklearn.metrics import accuracy_score, classification_report, confusion_matrix\n",
    "from sklearn.pipeline import Pipeline\n",
    "from sklearn.ensemble import RandomForestClassifier\n",
    "import joblib"
   ]
  },
  {
   "cell_type": "code",
   "execution_count": 18,
   "id": "b1268b48-1f8f-43cc-a66a-d8b1d2d08441",
   "metadata": {},
   "outputs": [],
   "source": [
    "result_df = pd.read_csv(r\"E:\\FYP\\Cardi 2\\Cardiovascular-Detection-using-ECG-images\\combined_data.csv\")\n",
    "\n",
    "# Features and target\n",
    "X = result_df.iloc[:, :-1]  # all columns except last\n",
    "y = result_df.iloc[:, -1]   # last column (target)\n",
    "\n",
    "# Convert categorical features to numeric\n",
    "X = pd.get_dummies(X)  # One-hot encoding for all non-numeric columns\n",
    "\n",
    "# Flatten target to 1D if needed\n",
    "y = y.ravel() if len(y.shape) > 1 else y"
   ]
  },
  {
   "cell_type": "code",
   "execution_count": 19,
   "id": "3f3cdff3-df53-4c87-99a7-2107f30e4333",
   "metadata": {},
   "outputs": [
    {
     "data": {
      "text/plain": [
       "['label_encoder.pkl']"
      ]
     },
     "execution_count": 19,
     "metadata": {},
     "output_type": "execute_result"
    }
   ],
   "source": [
    "from sklearn.preprocessing import LabelEncoder\n",
    "\n",
    "label_encoder = LabelEncoder()\n",
    "y_encoded = label_encoder.fit_transform(y)\n",
    "\n",
    "# Save the label encoder for deployment\n",
    "import joblib\n",
    "joblib.dump(label_encoder, \"label_encoder.pkl\")"
   ]
  },
  {
   "cell_type": "code",
   "execution_count": 20,
   "id": "3e5db59d-9182-4c37-a7cf-346cb029d39b",
   "metadata": {},
   "outputs": [
    {
     "data": {
      "text/plain": [
       "['pca.pkl']"
      ]
     },
     "execution_count": 20,
     "metadata": {},
     "output_type": "execute_result"
    }
   ],
   "source": [
    "from sklearn.preprocessing import StandardScaler\n",
    "from sklearn.decomposition import PCA\n",
    "from sklearn.model_selection import train_test_split\n",
    "\n",
    "X_train, X_test, y_train, y_test = train_test_split(\n",
    "    X, y_encoded, test_size=0.4, random_state=42, stratify=y_encoded\n",
    ")\n",
    "\n",
    "# Standardize features\n",
    "scaler = StandardScaler()\n",
    "X_train_scaled = scaler.fit_transform(X_train)\n",
    "X_test_scaled = scaler.transform(X_test)\n",
    "\n",
    "# Apply PCA\n",
    "pca = PCA(n_components=0.95, random_state=42)\n",
    "X_train_pca = pca.fit_transform(X_train_scaled)\n",
    "X_test_pca = pca.transform(X_test_scaled)\n",
    "\n",
    "# Save scaler and PCA for deployment\n",
    "joblib.dump(scaler, \"scaler.pkl\")\n",
    "joblib.dump(pca, \"pca.pkl\")"
   ]
  },
  {
   "cell_type": "code",
   "execution_count": 21,
   "id": "98a5868a-9fcc-4771-8841-f24d59aae05b",
   "metadata": {},
   "outputs": [
    {
     "name": "stdout",
     "output_type": "stream",
     "text": [
      "Fitting 3 folds for each of 12 candidates, totalling 36 fits\n"
     ]
    }
   ],
   "source": [
    "# RandomForest often gives strong baseline accuracy\n",
    "rf_pipeline = Pipeline([\n",
    "    ('classifier', RandomForestClassifier(random_state=42))\n",
    "])\n",
    "\n",
    "# Hyperparameter grid\n",
    "param_grid = {\n",
    "    'classifier__n_estimators': [100, 200],\n",
    "    'classifier__max_depth': [None, 10, 20],\n",
    "    'classifier__min_samples_split': [2, 5]\n",
    "}\n",
    "\n",
    "grid = GridSearchCV(rf_pipeline, param_grid, cv=3, n_jobs=-1, verbose=1)\n",
    "grid.fit(X_train_pca, y_train)\n",
    "\n",
    "# Best model\n",
    "best_model = grid.best_estimator_"
   ]
  },
  {
   "cell_type": "code",
   "execution_count": 22,
   "id": "15d5c870-6f0e-44eb-a9ab-055d3b0c7512",
   "metadata": {},
   "outputs": [
    {
     "name": "stdout",
     "output_type": "stream",
     "text": [
      "Accuracy: 0.9997927890592623\n",
      "\n",
      "Classification Report:\n",
      "               precision    recall  f1-score   support\n",
      "\n",
      "           0       1.00      1.00      1.00      1212\n",
      "           1       1.00      1.00      1.00       894\n",
      "           2       1.00      1.00      1.00      1243\n",
      "           3       1.00      1.00      1.00      1477\n",
      "\n",
      "    accuracy                           1.00      4826\n",
      "   macro avg       1.00      1.00      1.00      4826\n",
      "weighted avg       1.00      1.00      1.00      4826\n",
      "\n",
      "\n",
      "Confusion Matrix:\n",
      " [[1211    0    1    0]\n",
      " [   0  894    0    0]\n",
      " [   0    0 1243    0]\n",
      " [   0    0    0 1477]]\n",
      "\n",
      "Best Hyperparameters: {'classifier__max_depth': 10, 'classifier__min_samples_split': 2, 'classifier__n_estimators': 200}\n"
     ]
    }
   ],
   "source": [
    "y_pred = best_model.predict(X_test_pca)\n",
    "\n",
    "print(\"Accuracy:\", accuracy_score(y_test, y_pred))\n",
    "print(\"\\nClassification Report:\\n\", classification_report(y_test, y_pred))\n",
    "print(\"\\nConfusion Matrix:\\n\", confusion_matrix(y_test, y_pred))\n",
    "print(\"\\nBest Hyperparameters:\", grid.best_params_)"
   ]
  },
  {
   "cell_type": "code",
   "execution_count": 23,
   "id": "c54e653e-7f5b-4c63-8f32-aca83b2af948",
   "metadata": {},
   "outputs": [
    {
     "data": {
      "text/plain": [
       "['best_ecg_model.pkl']"
      ]
     },
     "execution_count": 23,
     "metadata": {},
     "output_type": "execute_result"
    }
   ],
   "source": [
    "# Save the trained model for deployment\n",
    "joblib.dump(best_model, \"best_ecg_model.pkl\")"
   ]
  },
  {
   "cell_type": "code",
   "execution_count": null,
   "id": "495b91a8-2b6b-447a-b503-317ff2aa286c",
   "metadata": {},
   "outputs": [],
   "source": []
  }
 ],
 "metadata": {
  "kernelspec": {
   "display_name": "Python 3.10.6",
   "language": "python",
   "name": "py310"
  },
  "language_info": {
   "codemirror_mode": {
    "name": "ipython",
    "version": 3
   },
   "file_extension": ".py",
   "mimetype": "text/x-python",
   "name": "python",
   "nbconvert_exporter": "python",
   "pygments_lexer": "ipython3",
   "version": "3.10.6"
  }
 },
 "nbformat": 4,
 "nbformat_minor": 5
}
